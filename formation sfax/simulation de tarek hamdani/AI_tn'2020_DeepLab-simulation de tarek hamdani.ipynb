{
  "nbformat": 4,
  "nbformat_minor": 0,
  "metadata": {
    "colab": {
      "name": "AI@tn'2020-DeepLab.ipynb",
      "provenance": []
    },
    "kernelspec": {
      "name": "python3",
      "display_name": "Python 3"
    }
  },
  "cells": [
    {
      "cell_type": "markdown",
      "metadata": {
        "id": "Fbed99TTTtTu"
      },
      "source": [
        "**AI@tn'2020 Trainings**\r\n",
        "\r\n",
        "Python Tools for Neural Deep Systems\r\n"
      ]
    },
    {
      "cell_type": "markdown",
      "metadata": {
        "id": "OrrxYmT7Uk6a"
      },
      "source": [
        "# Simple Neural Netwok with Keras"
      ]
    },
    {
      "cell_type": "code",
      "metadata": {
        "colab": {
          "base_uri": "https://localhost:8080/"
        },
        "id": "jQ6CimZjSmU5",
        "outputId": "102e67b5-d71b-4e92-a405-3e4e1d30c13e"
      },
      "source": [
        "##############\r\n",
        "import keras\r\n",
        "##############\r\n",
        "\r\n",
        "from keras.datasets import mnist\r\n",
        "from keras.models import Sequential\r\n",
        "from keras.layers import Dense, Dropout, Flatten\r\n",
        "from keras.layers import Conv2D, MaxPooling2D\r\n",
        "\r\n",
        "from keras import backend as K\r\n",
        "\r\n",
        "from keras.optimizers import SGD\r\n",
        "\r\n",
        "###################\r\n",
        "# Data preparation \r\n",
        "###################\r\n",
        "\r\n",
        "(x_train, y_train), (x_test, y_test) = mnist.load_data()\r\n",
        "\r\n",
        "print(x_train.shape)\r\n",
        "\r\n",
        "img_rows, img_cols = 28, 28\r\n",
        "num_classes = 10\r\n",
        "\r\n",
        "if K.image_data_format() == 'channels_first':\r\n",
        "    x_train = x_train.reshape(x_train.shape[0], 1, img_rows, img_cols)\r\n",
        "    x_test = x_test.reshape(x_test.shape[0], 1, img_rows, img_cols)\r\n",
        "    input_shape = (1, img_rows, img_cols)\r\n",
        "else:\r\n",
        "    x_train = x_train.reshape(x_train.shape[0], img_rows, img_cols, 1)\r\n",
        "    x_test = x_test.reshape(x_test.shape[0], img_rows, img_cols, 1)\r\n",
        "    input_shape = (img_rows, img_cols, 1)\r\n",
        "\r\n",
        "x_train = x_train.astype('float32')\r\n",
        "x_test = x_test.astype('float32')\r\n",
        "x_train /= 255\r\n",
        "x_test /= 255\r\n",
        "\r\n",
        "y_train = keras.utils.to_categorical(y_train, num_classes)\r\n",
        "y_test = keras.utils.to_categorical(y_test, num_classes)\r\n",
        "\r\n",
        "###############\r\n",
        "# Model Design \r\n",
        "###############\r\n",
        "\r\n",
        "model = Sequential()\r\n",
        "model.add(Flatten(input_shape=(28, 28, 1)))\r\n",
        "model.add(Dense(128, activation='relu'))\r\n",
        "model.add(Dropout(0.5))\r\n",
        "model.add(Dense(num_classes, activation='softmax'))\r\n",
        "\r\n",
        "opt = SGD(lr=0.01, momentum=0.9)\r\n",
        "model.compile(optimizer=opt, \r\n",
        "              loss='categorical_crossentropy', \r\n",
        "              metrics=['accuracy'])\r\n",
        "\r\n",
        "################\r\n",
        "# Model Display \r\n",
        "################\r\n",
        "\r\n",
        "model.summary()\r\n",
        "\r\n",
        "##############\r\n",
        "# Model Train \r\n",
        "##############\r\n",
        "\r\n",
        "batch_size = 32\r\n",
        "epochs = 2\r\n",
        "\r\n",
        "model.fit(x_train, y_train,\r\n",
        "          batch_size=batch_size,\r\n",
        "          epochs=epochs,\r\n",
        "          verbose=1,\r\n",
        "          validation_data=(x_test, y_test))"
      ],
      "execution_count": null,
      "outputs": [
        {
          "output_type": "stream",
          "text": [
            "Downloading data from https://storage.googleapis.com/tensorflow/tf-keras-datasets/mnist.npz\n",
            "11493376/11490434 [==============================] - 0s 0us/step\n",
            "(60000, 28, 28)\n",
            "Model: \"sequential\"\n",
            "_________________________________________________________________\n",
            "Layer (type)                 Output Shape              Param #   \n",
            "=================================================================\n",
            "flatten (Flatten)            (None, 784)               0         \n",
            "_________________________________________________________________\n",
            "dense (Dense)                (None, 128)               100480    \n",
            "_________________________________________________________________\n",
            "dropout (Dropout)            (None, 128)               0         \n",
            "_________________________________________________________________\n",
            "dense_1 (Dense)              (None, 10)                1290      \n",
            "=================================================================\n",
            "Total params: 101,770\n",
            "Trainable params: 101,770\n",
            "Non-trainable params: 0\n",
            "_________________________________________________________________\n",
            "Epoch 1/2\n",
            "1875/1875 [==============================] - 4s 2ms/step - loss: 0.6552 - accuracy: 0.7964 - val_loss: 0.1809 - val_accuracy: 0.9478\n",
            "Epoch 2/2\n",
            "1875/1875 [==============================] - 3s 2ms/step - loss: 0.2614 - accuracy: 0.9217 - val_loss: 0.1397 - val_accuracy: 0.9587\n"
          ],
          "name": "stdout"
        },
        {
          "output_type": "execute_result",
          "data": {
            "text/plain": [
              "<tensorflow.python.keras.callbacks.History at 0x7f6f3b3dfc50>"
            ]
          },
          "metadata": {
            "tags": []
          },
          "execution_count": 1
        }
      ]
    },
    {
      "cell_type": "code",
      "metadata": {
        "colab": {
          "base_uri": "https://localhost:8080/"
        },
        "id": "bBGFi9XhVJQr",
        "outputId": "19ae88eb-b1c2-4956-c9b7-1a830b645868"
      },
      "source": [
        "model.summary()"
      ],
      "execution_count": null,
      "outputs": [
        {
          "output_type": "stream",
          "text": [
            "Model: \"sequential\"\n",
            "_________________________________________________________________\n",
            "Layer (type)                 Output Shape              Param #   \n",
            "=================================================================\n",
            "flatten (Flatten)            (None, 784)               0         \n",
            "_________________________________________________________________\n",
            "dense (Dense)                (None, 128)               100480    \n",
            "_________________________________________________________________\n",
            "dropout (Dropout)            (None, 128)               0         \n",
            "_________________________________________________________________\n",
            "dense_1 (Dense)              (None, 10)                1290      \n",
            "=================================================================\n",
            "Total params: 101,770\n",
            "Trainable params: 101,770\n",
            "Non-trainable params: 0\n",
            "_________________________________________________________________\n"
          ],
          "name": "stdout"
        }
      ]
    },
    {
      "cell_type": "markdown",
      "metadata": {
        "id": "F_f6q8VBUsAb"
      },
      "source": [
        "# CNN with Keras"
      ]
    },
    {
      "cell_type": "code",
      "metadata": {
        "colab": {
          "base_uri": "https://localhost:8080/",
          "height": 833
        },
        "id": "NIqpGmt7XYC4",
        "outputId": "e3e78244-4432-4a38-b07f-df71ad85de4e"
      },
      "source": [
        "##########################################\r\n",
        "# model1 is another Neural Network object\r\n",
        "#       !! using the same dyata !!\r\n",
        "##########################################\r\n",
        "model1 = Sequential()\r\n",
        "\r\n",
        "#################################\r\n",
        "# Here we add convolution layers \r\n",
        "#################################\r\n",
        "\r\n",
        "model1.add(Conv2D(32, kernel_size=(3, 3),\r\n",
        "                 activation='relu',\r\n",
        "                 input_shape=input_shape))\r\n",
        "model1.add(MaxPooling2D(pool_size=(2, 2)))\r\n",
        "model1.add(Conv2D(32, (3, 3), activation='relu'))\r\n",
        "\r\n",
        "####################################################################\r\n",
        "# Flatten layer to serialize data \r\n",
        "# transforms a two-dimensional matrix of features into a vector \r\n",
        "# that can be fed into a fully connected neural network classifier\r\n",
        "####################################################################\r\n",
        "\r\n",
        "model1.add(Flatten())\r\n",
        "\r\n",
        "################################################\r\n",
        "# add fully connected neural network classifier\r\n",
        "################################################\r\n",
        "\r\n",
        "model1.add(Dense(128, activation='relu'))\r\n",
        "model1.add(Dropout(0.5))\r\n",
        "model1.add(Dense(num_classes, activation='softmax'))\r\n",
        "\r\n",
        "opt = SGD(lr=0.01, momentum=0.9)\r\n",
        "model1.compile(optimizer=opt, \r\n",
        "              loss='categorical_crossentropy', \r\n",
        "              metrics=['accuracy'])\r\n",
        "\r\n",
        "###################\r\n",
        "# Perform training \r\n",
        "###################\r\n",
        "\r\n",
        "batch_size = 32\r\n",
        "epochs = 5\r\n",
        "\r\n",
        "hist = model1.fit(x_train, y_train,\r\n",
        "          batch_size=batch_size,\r\n",
        "          epochs=epochs,\r\n",
        "          verbose=1,\r\n",
        "          validation_data=(x_test, y_test))\r\n",
        "\r\n",
        "##########################\r\n",
        "# Dipslay results summary \r\n",
        "##########################\r\n",
        "\r\n",
        "model1.summary()\r\n",
        "\r\n",
        "import matplotlib.pyplot as plt\r\n",
        "\r\n",
        "plt.plot(hist.history['loss'])\r\n",
        "plt.plot(hist.history['val_loss'])\r\n",
        "plt.title('Model loss')\r\n",
        "plt.ylabel('Loss')\r\n",
        "plt.xlabel('Epoch')\r\n",
        "plt.legend(['Train', 'Val'], loc='upper right')\r\n",
        "plt.show()"
      ],
      "execution_count": null,
      "outputs": [
        {
          "output_type": "stream",
          "text": [
            "Model: \"sequential_1\"\n",
            "_________________________________________________________________\n",
            "Layer (type)                 Output Shape              Param #   \n",
            "=================================================================\n",
            "conv2d (Conv2D)              (None, 26, 26, 32)        320       \n",
            "_________________________________________________________________\n",
            "max_pooling2d (MaxPooling2D) (None, 13, 13, 32)        0         \n",
            "_________________________________________________________________\n",
            "conv2d_1 (Conv2D)            (None, 11, 11, 32)        9248      \n",
            "_________________________________________________________________\n",
            "flatten_1 (Flatten)          (None, 3872)              0         \n",
            "_________________________________________________________________\n",
            "dense_2 (Dense)              (None, 128)               495744    \n",
            "_________________________________________________________________\n",
            "dropout_1 (Dropout)          (None, 128)               0         \n",
            "_________________________________________________________________\n",
            "dense_3 (Dense)              (None, 10)                1290      \n",
            "=================================================================\n",
            "Total params: 506,602\n",
            "Trainable params: 506,602\n",
            "Non-trainable params: 0\n",
            "_________________________________________________________________\n",
            "Epoch 1/5\n",
            "1875/1875 [==============================] - 46s 24ms/step - loss: 0.5522 - accuracy: 0.8230 - val_loss: 0.0648 - val_accuracy: 0.9779\n",
            "Epoch 2/5\n",
            "1875/1875 [==============================] - 45s 24ms/step - loss: 0.1094 - accuracy: 0.9677 - val_loss: 0.0454 - val_accuracy: 0.9855\n",
            "Epoch 3/5\n",
            "1875/1875 [==============================] - 45s 24ms/step - loss: 0.0776 - accuracy: 0.9765 - val_loss: 0.0428 - val_accuracy: 0.9866\n",
            "Epoch 4/5\n",
            "1875/1875 [==============================] - 45s 24ms/step - loss: 0.0616 - accuracy: 0.9815 - val_loss: 0.0396 - val_accuracy: 0.9862\n",
            "Epoch 5/5\n",
            "1875/1875 [==============================] - 45s 24ms/step - loss: 0.0503 - accuracy: 0.9846 - val_loss: 0.0299 - val_accuracy: 0.9903\n"
          ],
          "name": "stdout"
        },
        {
          "output_type": "display_data",
          "data": {
            "image/png": "[encoded data removed]",
            "text/plain": [
              "<Figure size 432x288 with 1 Axes>"
            ]
          },
          "metadata": {
            "tags": [],
            "needs_background": "light"
          }
        }
      ]
    },
    {
      "cell_type": "markdown",
      "metadata": {
        "id": "kgs3MJdxakSP"
      },
      "source": [
        "# Handle CNN Models"
      ]
    },
    {
      "cell_type": "markdown",
      "metadata": {
        "id": "6Y2pL-0vZxIS"
      },
      "source": [
        "Drive mount "
      ]
    },
    {
      "cell_type": "code",
      "metadata": {
        "colab": {
          "base_uri": "https://localhost:8080/"
        },
        "id": "4TGghL2nZtSC",
        "outputId": "62db1a78-d440-482e-a9f5-d744741b3417"
      },
      "source": [
        "##################\r\n",
        "#Montage du drive\r\n",
        "##################\r\n",
        "\r\n",
        "import os, sys\r\n",
        "from google.colab import drive\r\n",
        "drive.mount('/content/gdrive')"
      ],
      "execution_count": null,
      "outputs": [
        {
          "output_type": "stream",
          "text": [
            "Drive already mounted at /content/gdrive; to attempt to forcibly remount, call drive.mount(\"/content/gdrive\", force_remount=True).\n"
          ],
          "name": "stdout"
        }
      ]
    },
    {
      "cell_type": "code",
      "metadata": {
        "id": "Ew3Sq5I2ZNwt"
      },
      "source": [
        "#####################\r\n",
        "# Save trained models\r\n",
        "#####################\r\n",
        "\r\n",
        "model1.save('/content/gdrive/My Drive/!!Events!!/MNIST_model.h5')"
      ],
      "execution_count": null,
      "outputs": []
    },
    {
      "cell_type": "code",
      "metadata": {
        "id": "DjSw2yxTbODu"
      },
      "source": [
        "#####################\r\n",
        "# Load trained models\r\n",
        "#####################\r\n",
        "\r\n",
        "from keras.models import load_model \r\n",
        "Loaded_model = load_model('/content/gdrive/My Drive/!!Events!!/MNIST_model.h5')"
      ],
      "execution_count": null,
      "outputs": []
    },
    {
      "cell_type": "code",
      "metadata": {
        "id": "06BOgtWHb52l"
      },
      "source": [
        "#####################\r\n",
        "# Using Loaded Model\r\n",
        "#####################\r\n",
        "\r\n",
        "Loaded_model.summary()\r\n",
        "\r\n",
        "print(Loaded_model.predict(x_test[30].reshape(1, 28, 28, 1)))\r\n",
        "\r\n",
        "print(Loaded_model.predict(x_test[30].reshape(1, 28, 28, 1)).argmax())\r\n",
        "\r\n",
        "plt.imshow(x_test[30].reshape(28, 28),cmap='Greys')"
      ],
      "execution_count": null,
      "outputs": []
    },
    {
      "cell_type": "code",
      "metadata": {
        "id": "d-byDNmwepK4"
      },
      "source": [
        "##########################\r\n",
        "# finetuning laoded Model \r\n",
        "##########################\r\n",
        "\r\n",
        "batch_size = 32\r\n",
        "epochs = 5\r\n",
        "\r\n",
        "hist = Loaded_model.fit(x_train, y_train,\r\n",
        "          batch_size=batch_size,\r\n",
        "          epochs=epochs,\r\n",
        "          verbose=1,\r\n",
        "          validation_data=(x_test, y_test))"
      ],
      "execution_count": null,
      "outputs": []
    },
    {
      "cell_type": "markdown",
      "metadata": {
        "id": "obPCz8eEhw7F"
      },
      "source": [
        "# Analysing Learned Features "
      ]
    },
    {
      "cell_type": "code",
      "metadata": {
        "colab": {
          "base_uri": "https://localhost:8080/",
          "height": 1000
        },
        "id": "0irZ6fI9iBXr",
        "outputId": "55b96e8d-dab7-4f46-e7b3-2ed3c281e39d"
      },
      "source": [
        "from keras import models\r\n",
        "from matplotlib import pyplot\r\n",
        "layer_outputs = [layer.output for layer in Loaded_model.layers[:3]]\r\n",
        "activation_model = models.Model(inputs=Loaded_model.input, outputs=layer_outputs)\r\n",
        "activations = activation_model.predict(x_test[30].reshape(1,28,28,1))\r\n",
        "first_layer_activation = activations[0]\r\n",
        "\r\n",
        "square = 4\r\n",
        "ix = 1\r\n",
        "for _ in range(square):\r\n",
        "\tfor _ in range(square):\r\n",
        "\t\t# specify subplot and turn of axis\r\n",
        "\t\tax = pyplot.subplot(square, square, ix)\r\n",
        "\t\tax.set_xticks([])\r\n",
        "\t\tax.set_yticks([])\r\n",
        "\t\t# plot filter channel in grayscale\r\n",
        "\t\tpyplot.imshow(first_layer_activation[0, :, :, ix-1], cmap='viridis')\r\n",
        "\t\tix += 1\r\n",
        "# show the figure\r\n",
        "pyplot.show()\r\n",
        "\r\n",
        "plt.matshow(first_layer_activation[0, :, :, 0], cmap='gray')\r\n",
        "plt.matshow(first_layer_activation[0, :, :, 1], cmap='viridis')\r\n",
        "plt.matshow(first_layer_activation[0, :, :, 2], cmap='viridis')\r\n"
      ],
      "execution_count": null,
      "outputs": [
        {
          "output_type": "display_data",
          "data": {
            "image/png": "[encoded data removed]",
            "text/plain": [
              "<Figure size 432x288 with 16 Axes>"
            ]
          },
          "metadata": {
            "tags": []
          }
        },
        {
          "output_type": "execute_result",
          "data": {
            "text/plain": [
              "<matplotlib.image.AxesImage at 0x7f6f2a7963c8>"
            ]
          },
          "metadata": {
            "tags": []
          },
          "execution_count": 10
        },
        {
          "output_type": "display_data",
          "data": {
            "image/png": "[encoded data removed]",
            "text/plain": [
              "<Figure size 288x288 with 1 Axes>"
            ]
          },
          "metadata": {
            "tags": [],
            "needs_background": "light"
          }
        },
        {
          "output_type": "display_data",
          "data": {
            "image/png": "[encoded data removed]",
            "text/plain": [
              "<Figure size 288x288 with 1 Axes>"
            ]
          },
          "metadata": {
            "tags": [],
            "needs_background": "light"
          }
        },
        {
          "output_type": "display_data",
          "data": {
            "image/png": "[encoded data removed]",
            "text/plain": [
              "<Figure size 288x288 with 1 Axes>"
            ]
          },
          "metadata": {
            "tags": [],
            "needs_background": "light"
          }
        }
      ]
    },
    {
      "cell_type": "markdown",
      "metadata": {
        "id": "ekiGl1l-bc88"
      },
      "source": [
        "# Pretrained Model ResNet50 (Keras Application)"
      ]
    },
    {
      "cell_type": "code",
      "metadata": {
        "colab": {
          "resources": {
            "http://localhost:8080/nbextensions/google.colab/files.js": {
              "data": "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",
              "ok": true,
              "headers": [
                [
                  "content-type",
                  "application/javascript"
                ]
              ],
              "status": 200,
              "status_text": ""
            }
          },
          "base_uri": "https://localhost:8080/",
          "height": 177
        },
        "id": "SbdLd2vubd3t",
        "outputId": "9074c8bd-74ff-4eac-d516-a37a8ddccd19"
      },
      "source": [
        "from keras.applications.resnet50 import ResNet50\r\n",
        "from keras.preprocessing import image\r\n",
        "from keras.applications.resnet50 import preprocess_input, decode_predictions\r\n",
        "import numpy as np\r\n",
        "\r\n",
        "model = ResNet50(weights='imagenet')\r\n",
        "\r\n",
        "# model.summary()\r\n",
        "\r\n",
        "from google.colab import files\r\n",
        "up=files.upload()\r\n",
        "img_path = 'Elephant.jpg'\r\n",
        "\r\n",
        "img = image.load_img(img_path, target_size=(224, 224))\r\n",
        "x = image.img_to_array(img)\r\n",
        "x = np.expand_dims(x, axis=0)\r\n",
        "x = preprocess_input(x)\r\n",
        "\r\n",
        "preds = model.predict(x)\r\n",
        "# decode the results into a list of tuples (class, description, probability)\r\n",
        "# (one such list for each sample in the batch)\r\n",
        "print('Predicted:', decode_predictions(preds, top=5)[0])"
      ],
      "execution_count": null,
      "outputs": [
        {
          "output_type": "stream",
          "text": [
            "Downloading data from https://storage.googleapis.com/tensorflow/keras-applications/resnet/resnet50_weights_tf_dim_ordering_tf_kernels.h5\n",
            "102973440/102967424 [==============================] - 1s 0us/step\n"
          ],
          "name": "stdout"
        },
        {
          "output_type": "display_data",
          "data": {
            "text/html": [
              "\n",
              "     <input type=\"file\" id=\"files-bce19bf4-8c42-43d6-9678-3603f616ba05\" name=\"files[]\" multiple disabled\n",
              "        style=\"border:none\" />\n",
              "     <output id=\"result-bce19bf4-8c42-43d6-9678-3603f616ba05\">\n",
              "      Upload widget is only available when the cell has been executed in the\n",
              "      current browser session. Please rerun this cell to enable.\n",
              "      </output>\n",
              "      <script src=\"/nbextensions/google.colab/files.js\"></script> "
            ],
            "text/plain": [
              "<IPython.core.display.HTML object>"
            ]
          },
          "metadata": {
            "tags": []
          }
        },
        {
          "output_type": "stream",
          "text": [
            "Saving Elephant.jpg to Elephant.jpg\n",
            "Downloading data from https://storage.googleapis.com/download.tensorflow.org/data/imagenet_class_index.json\n",
            "40960/35363 [==================================] - 0s 0us/step\n",
            "Predicted: [('n02504458', 'African_elephant', 0.87925094), ('n01871265', 'tusker', 0.10295206), ('n02504013', 'Indian_elephant', 0.007906027), ('n02437312', 'Arabian_camel', 0.003647497), ('n02412080', 'ram', 0.0018154735)]\n"
          ],
          "name": "stdout"
        }
      ]
    },
    {
      "cell_type": "code",
      "metadata": {
        "id": "Y2vhfFbieWiQ"
      },
      "source": [
        ""
      ],
      "execution_count": null,
      "outputs": []
    },
    {
      "cell_type": "markdown",
      "metadata": {
        "id": "GPru6B4xjQuI"
      },
      "source": [
        "# customize Application VGG19"
      ]
    },
    {
      "cell_type": "code",
      "metadata": {
        "id": "6lbreKbGjcMQ"
      },
      "source": [
        "from keras.preprocessing.image import ImageDataGenerator, load_img\r\n",
        "from keras import models\r\n",
        "from keras.models import Model\r\n",
        "from keras.preprocessing.image import img_to_array\r\n",
        "from keras.applications.vgg19 import preprocess_input \r\n",
        "import os\r\n",
        "import numpy as np\r\n",
        "import matplotlib.pyplot as plt\r\n",
        "import keras\r\n",
        "from keras.applications import VGG19\r\n",
        "vgg_conv = VGG19()\r\n",
        "vgg_conv.summary()"
      ],
      "execution_count": null,
      "outputs": []
    },
    {
      "cell_type": "code",
      "metadata": {
        "id": "eGOjBHyOjlqI"
      },
      "source": [
        "for layer in vgg_conv.layers[-3:]:\r\n",
        "    layer.trainable = False\r\n",
        "for layer in vgg_conv.layers:\r\n",
        "    print(layer, layer.trainable)"
      ],
      "execution_count": null,
      "outputs": []
    },
    {
      "cell_type": "markdown",
      "metadata": {
        "id": "ZdhmcBoAkUn-"
      },
      "source": [
        "# MobileNet for CIFAR10"
      ]
    },
    {
      "cell_type": "code",
      "metadata": {
        "colab": {
          "base_uri": "https://localhost:8080/"
        },
        "id": "DlichK-6kdhG",
        "outputId": "44d25bb0-fa6b-40b2-8f87-518503f91920"
      },
      "source": [
        "from keras.applications.mobilenet_v2 import MobileNetV2\r\n",
        "from keras.layers import Input,Dense,Dropout,Flatten,Conv2D,MaxPooling2D\r\n",
        "from keras.utils.vis_utils import plot_model\r\n",
        "from keras.datasets import cifar10\r\n",
        "import keras \r\n",
        "\r\n",
        "batch_size = 32\r\n",
        "num_classes = 10\r\n",
        "epochs = 2\r\n",
        "\r\n",
        "(x_train, y_train), (x_test, y_test) = cifar10.load_data()\r\n",
        "y_train = keras.utils.to_categorical(y_train, num_classes)\r\n",
        "y_test = keras.utils.to_categorical(y_test, num_classes)\r\n",
        "\r\n",
        "model = keras.models.Sequential()\r\n",
        "#model.add(Conv2D(64, kernel_size=3, input_shape=(224,224,3))) \r\n",
        "#model.add(MobileNetV2().layers[2])\r\n",
        "model.add(MobileNetV2(include_top=False, input_shape=x_train.shape[1:])) #, pooling='max'))\r\n",
        "model.add(Flatten())\r\n",
        "model.add(Dense(10))\r\n",
        "model.summary()\r\n",
        "plot_model(model)\r\n",
        "\r\n",
        "# initiate SGD optimizer\r\n",
        "opt = keras.optimizers.SGD(lr=0.01, decay=1e-6, momentum=0.9, nesterov=True)\r\n",
        "\r\n",
        "# Let's train the model using SGD\r\n",
        "model.compile(loss='categorical_crossentropy',\r\n",
        "              optimizer=opt,\r\n",
        "              metrics=['accuracy'])\r\n",
        "\r\n",
        "x_train = x_train.astype('float32')\r\n",
        "x_test = x_test.astype('float32')\r\n",
        "x_train /= 255\r\n",
        "x_test /= 255\r\n",
        "\r\n",
        "model.fit(x_train, y_train,\r\n",
        "              batch_size=batch_size,\r\n",
        "              epochs=epochs,\r\n",
        "              validation_data=(x_test, y_test),\r\n",
        "              shuffle=True)\r\n",
        "\r\n",
        "scores = model.evaluate(x_test, y_test, verbose=1)\r\n",
        "print('Test loss:', scores[0])\r\n",
        "print('Test accuracy:', scores[1])"
      ],
      "execution_count": null,
      "outputs": [
        {
          "output_type": "stream",
          "text": [
            "Downloading data from https://www.cs.toronto.edu/~kriz/cifar-10-python.tar.gz\n",
            "170500096/170498071 [==============================] - 3s 0us/step\n",
            "WARNING:tensorflow:`input_shape` is undefined or non-square, or `rows` is not in [96, 128, 160, 192, 224]. Weights for input shape (224, 224) will be loaded as the default.\n",
            "Downloading data from https://storage.googleapis.com/tensorflow/keras-applications/mobilenet_v2/mobilenet_v2_weights_tf_dim_ordering_tf_kernels_1.0_224_no_top.h5\n",
            "9412608/9406464 [==============================] - 0s 0us/step\n",
            "Model: \"sequential_2\"\n",
            "_________________________________________________________________\n",
            "Layer (type)                 Output Shape              Param #   \n",
            "=================================================================\n",
            "mobilenetv2_1.00_224 (Functi (None, 1, 1, 1280)        2257984   \n",
            "_________________________________________________________________\n",
            "flatten_2 (Flatten)          (None, 1280)              0         \n",
            "_________________________________________________________________\n",
            "dense_4 (Dense)              (None, 10)                12810     \n",
            "=================================================================\n",
            "Total params: 2,270,794\n",
            "Trainable params: 2,236,682\n",
            "Non-trainable params: 34,112\n",
            "_________________________________________________________________\n",
            "Epoch 1/2\n",
            "1563/1563 [==============================] - 379s 240ms/step - loss: 7.1341 - accuracy: 0.1107 - val_loss: 11.2827 - val_accuracy: 0.1000\n",
            "Epoch 2/2\n",
            "1563/1563 [==============================] - 374s 239ms/step - loss: 8.5759 - accuracy: 0.0985 - val_loss: 7.3365 - val_accuracy: 0.1011\n",
            "313/313 [==============================] - 9s 30ms/step - loss: 7.3365 - accuracy: 0.1011\n",
            "Test loss: 7.336480617523193\n",
            "Test accuracy: 0.10109999775886536\n"
          ],
          "name": "stdout"
        }
      ]
    },
    {
      "cell_type": "code",
      "metadata": {
        "colab": {
          "base_uri": "https://localhost:8080/"
        },
        "id": "7rqG6T5tmH8G",
        "outputId": "1b47cd67-45fa-4712-b489-20e2d884f67d"
      },
      "source": [
        "from keras.datasets import cifar10\r\n",
        "from keras.models import Model\r\n",
        "from keras.utils.vis_utils import plot_model\r\n",
        "from keras.layers import Input,Dense,Dropout,Flatten,Conv2D,MaxPooling2D\r\n",
        "from keras.applications.mobilenet_v2 import MobileNetV2\r\n",
        "import keras \r\n",
        "\r\n",
        "batch_size = 32\r\n",
        "num_classes = 10\r\n",
        "epochs = 2\r\n",
        "\r\n",
        "(x_train, y_train), (x_test, y_test) = cifar10.load_data()\r\n",
        "y_train = keras.utils.to_categorical(y_train, num_classes)\r\n",
        "y_test = keras.utils.to_categorical(y_test, num_classes)\r\n",
        "\r\n",
        "MobiNet = MobileNetV2(weights='imagenet',include_top=False, input_shape=x_train.shape[1:])\r\n",
        "#MobNet = MobileNetV2()\r\n",
        "for layer in MobiNet.layers[:-6]: \r\n",
        "  layer.trainable = False \r\n",
        "\r\n",
        "for layer in MobiNet.layers: \r\n",
        "  sp = '  '[len(layer.name)-9:]\r\n",
        "  print(layer.name, sp, layer.trainable)\r\n",
        "\r\n",
        "MobNet = keras.models.Sequential()\r\n",
        "MobNet.add(MobiNet)\r\n",
        "MobNet.add(Flatten())\r\n",
        "MobNet.add(Dense(num_classes, activation='softmax'))\r\n",
        "MobNet.summary()\r\n",
        "plot_model(MobNet)\r\n",
        "\r\n",
        "# initiate SGD optimizer\r\n",
        "opt = keras.optimizers.SGD(lr=0.01, decay=1e-6, momentum=0.9, nesterov=True)\r\n",
        "\r\n",
        "# Let's train the model using SGD\r\n",
        "MobNet.compile(loss='categorical_crossentropy',\r\n",
        "              optimizer=opt,\r\n",
        "              metrics=['accuracy'])\r\n",
        "\r\n",
        "x_train = x_train.astype('float32')\r\n",
        "x_test = x_test.astype('float32')\r\n",
        "x_train /= 255\r\n",
        "x_test /= 255\r\n",
        "\r\n",
        "MobNet.fit(x_train, y_train,\r\n",
        "              batch_size=batch_size,\r\n",
        "              epochs=epochs,\r\n",
        "              validation_data=(x_test, y_test),\r\n",
        "              shuffle=True)\r\n",
        "\r\n",
        "scores = MobNet.evaluate(x_test, y_test, verbose=1)\r\n",
        "print('Test loss:', scores[0])\r\n",
        "print('Test accuracy:', scores[1])"
      ],
      "execution_count": null,
      "outputs": [
        {
          "output_type": "stream",
          "text": [
            "WARNING:tensorflow:`input_shape` is undefined or non-square, or `rows` is not in [96, 128, 160, 192, 224]. Weights for input shape (224, 224) will be loaded as the default.\n",
            "input_4    False\n",
            "Conv1    False\n",
            "bn_Conv1   False\n",
            "Conv1_relu   False\n",
            "expanded_conv_depthwise  False\n",
            "expanded_conv_depthwise_BN  False\n",
            "expanded_conv_depthwise_relu  False\n",
            "expanded_conv_project  False\n",
            "expanded_conv_project_BN  False\n",
            "block_1_expand  False\n",
            "block_1_expand_BN  False\n",
            "block_1_expand_relu  False\n",
            "block_1_pad  False\n",
            "block_1_depthwise  False\n",
            "block_1_depthwise_BN  False\n",
            "block_1_depthwise_relu  False\n",
            "block_1_project  False\n",
            "block_1_project_BN  False\n",
            "block_2_expand  False\n",
            "block_2_expand_BN  False\n",
            "block_2_expand_relu  False\n",
            "block_2_depthwise  False\n",
            "block_2_depthwise_BN  False\n",
            "block_2_depthwise_relu  False\n",
            "block_2_project  False\n",
            "block_2_project_BN  False\n",
            "block_2_add  False\n",
            "block_3_expand  False\n",
            "block_3_expand_BN  False\n",
            "block_3_expand_relu  False\n",
            "block_3_pad  False\n",
            "block_3_depthwise  False\n",
            "block_3_depthwise_BN  False\n",
            "block_3_depthwise_relu  False\n",
            "block_3_project  False\n",
            "block_3_project_BN  False\n",
            "block_4_expand  False\n",
            "block_4_expand_BN  False\n",
            "block_4_expand_relu  False\n",
            "block_4_depthwise  False\n",
            "block_4_depthwise_BN  False\n",
            "block_4_depthwise_relu  False\n",
            "block_4_project  False\n",
            "block_4_project_BN  False\n",
            "block_4_add  False\n",
            "block_5_expand  False\n",
            "block_5_expand_BN  False\n",
            "block_5_expand_relu  False\n",
            "block_5_depthwise  False\n",
            "block_5_depthwise_BN  False\n",
            "block_5_depthwise_relu  False\n",
            "block_5_project  False\n",
            "block_5_project_BN  False\n",
            "block_5_add  False\n",
            "block_6_expand  False\n",
            "block_6_expand_BN  False\n",
            "block_6_expand_relu  False\n",
            "block_6_pad  False\n",
            "block_6_depthwise  False\n",
            "block_6_depthwise_BN  False\n",
            "block_6_depthwise_relu  False\n",
            "block_6_project  False\n",
            "block_6_project_BN  False\n",
            "block_7_expand  False\n",
            "block_7_expand_BN  False\n",
            "block_7_expand_relu  False\n",
            "block_7_depthwise  False\n",
            "block_7_depthwise_BN  False\n",
            "block_7_depthwise_relu  False\n",
            "block_7_project  False\n",
            "block_7_project_BN  False\n",
            "block_7_add  False\n",
            "block_8_expand  False\n",
            "block_8_expand_BN  False\n",
            "block_8_expand_relu  False\n",
            "block_8_depthwise  False\n",
            "block_8_depthwise_BN  False\n",
            "block_8_depthwise_relu  False\n",
            "block_8_project  False\n",
            "block_8_project_BN  False\n",
            "block_8_add  False\n",
            "block_9_expand  False\n",
            "block_9_expand_BN  False\n",
            "block_9_expand_relu  False\n",
            "block_9_depthwise  False\n",
            "block_9_depthwise_BN  False\n",
            "block_9_depthwise_relu  False\n",
            "block_9_project  False\n",
            "block_9_project_BN  False\n",
            "block_9_add  False\n",
            "block_10_expand  False\n",
            "block_10_expand_BN  False\n",
            "block_10_expand_relu  False\n",
            "block_10_depthwise  False\n",
            "block_10_depthwise_BN  False\n",
            "block_10_depthwise_relu  False\n",
            "block_10_project  False\n",
            "block_10_project_BN  False\n",
            "block_11_expand  False\n",
            "block_11_expand_BN  False\n",
            "block_11_expand_relu  False\n",
            "block_11_depthwise  False\n",
            "block_11_depthwise_BN  False\n",
            "block_11_depthwise_relu  False\n",
            "block_11_project  False\n",
            "block_11_project_BN  False\n",
            "block_11_add  False\n",
            "block_12_expand  False\n",
            "block_12_expand_BN  False\n",
            "block_12_expand_relu  False\n",
            "block_12_depthwise  False\n",
            "block_12_depthwise_BN  False\n",
            "block_12_depthwise_relu  False\n",
            "block_12_project  False\n",
            "block_12_project_BN  False\n",
            "block_12_add  False\n",
            "block_13_expand  False\n",
            "block_13_expand_BN  False\n",
            "block_13_expand_relu  False\n",
            "block_13_pad  False\n",
            "block_13_depthwise  False\n",
            "block_13_depthwise_BN  False\n",
            "block_13_depthwise_relu  False\n",
            "block_13_project  False\n",
            "block_13_project_BN  False\n",
            "block_14_expand  False\n",
            "block_14_expand_BN  False\n",
            "block_14_expand_relu  False\n",
            "block_14_depthwise  False\n",
            "block_14_depthwise_BN  False\n",
            "block_14_depthwise_relu  False\n",
            "block_14_project  False\n",
            "block_14_project_BN  False\n",
            "block_14_add  False\n",
            "block_15_expand  False\n",
            "block_15_expand_BN  False\n",
            "block_15_expand_relu  False\n",
            "block_15_depthwise  False\n",
            "block_15_depthwise_BN  False\n",
            "block_15_depthwise_relu  False\n",
            "block_15_project  False\n",
            "block_15_project_BN  False\n",
            "block_15_add  False\n",
            "block_16_expand  False\n",
            "block_16_expand_BN  False\n",
            "block_16_expand_relu  False\n",
            "block_16_depthwise  False\n",
            "block_16_depthwise_BN  False\n",
            "block_16_depthwise_relu  True\n",
            "block_16_project  True\n",
            "block_16_project_BN  True\n",
            "Conv_1    True\n",
            "Conv_1_bn    True\n",
            "out_relu   True\n",
            "Model: \"sequential_3\"\n",
            "_________________________________________________________________\n",
            "Layer (type)                 Output Shape              Param #   \n",
            "=================================================================\n",
            "mobilenetv2_1.00_224 (Functi (None, 1, 1, 1280)        2257984   \n",
            "_________________________________________________________________\n",
            "flatten_3 (Flatten)          (None, 1280)              0         \n",
            "_________________________________________________________________\n",
            "dense_5 (Dense)              (None, 10)                12810     \n",
            "=================================================================\n",
            "Total params: 2,270,794\n",
            "Trainable params: 732,810\n",
            "Non-trainable params: 1,537,984\n",
            "_________________________________________________________________\n",
            "Epoch 1/2\n",
            "1563/1563 [==============================] - 114s 71ms/step - loss: 3.0748 - accuracy: 0.3628 - val_loss: 13.6516 - val_accuracy: 0.2393\n",
            "Epoch 2/2\n",
            "1563/1563 [==============================] - 108s 69ms/step - loss: 1.5043 - accuracy: 0.4961 - val_loss: 4.7829 - val_accuracy: 0.3032\n",
            "313/313 [==============================] - 9s 30ms/step - loss: 4.7829 - accuracy: 0.3032\n",
            "Test loss: 4.782945156097412\n",
            "Test accuracy: 0.30320000648498535\n"
          ],
          "name": "stdout"
        }
      ]
    }
  ]
}